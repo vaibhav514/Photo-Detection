{
  "nbformat": 4,
  "nbformat_minor": 0,
  "metadata": {
    "colab": {
      "provenance": [],
      "authorship_tag": "ABX9TyNN/MBi7vXOm2U1+Dj3YX5K",
      "include_colab_link": true
    },
    "kernelspec": {
      "name": "python3",
      "display_name": "Python 3"
    },
    "language_info": {
      "name": "python"
    }
  },
  "cells": [
    {
      "cell_type": "markdown",
      "metadata": {
        "id": "view-in-github",
        "colab_type": "text"
      },
      "source": [
        "<a href=\"https://colab.research.google.com/github/vaibhav514/Photo-Detection/blob/main/Photo-Detection.ipynb\" target=\"_parent\"><img src=\"https://colab.research.google.com/assets/colab-badge.svg\" alt=\"Open In Colab\"/></a>"
      ]
    },
    {
      "cell_type": "markdown",
      "source": [
        "\n",
        "Checking is face is present in photo or not"
      ],
      "metadata": {
        "id": "Wf5VPOVpHRH0"
      }
    },
    {
      "cell_type": "code",
      "execution_count": 10,
      "metadata": {
        "id": "TQ2TjkNAKem-",
        "colab": {
          "base_uri": "https://localhost:8080/"
        },
        "outputId": "6d040b4b-13ac-457b-e803-ac62f483dd5a"
      },
      "outputs": [
        {
          "output_type": "stream",
          "name": "stdout",
          "text": [
            "Select Exam type :\n",
            "1)ABC\n",
            "2)SAF\n",
            "3)GATE\n",
            "GATE\n",
            "File size is to small or to large mantain the size under 65Kb and over 45Kb \n",
            "Uploaded File Size:  4096.0\n"
          ]
        }
      ],
      "source": [
        "import cv2\n",
        "import os\n",
        "cascPath = \"face.xml\"\n",
        "imagePath = \"3.JPG\"\n",
        "size = os.path.getsize(imagePath)\n",
        "size /= 1024\n",
        "roundsize = round(size,3)\n",
        "faceCascade = cv2.CascadeClassifier(cascPath)\n",
        "\n",
        "image = cv2.imread(imagePath)\n",
        "gray = cv2.cvtColor(image, cv2.COLOR_BGR2GRAY)\n",
        "\n",
        "faces = faceCascade.detectMultiScale(\n",
        "    gray,\n",
        "    scaleFactor=1.5,\n",
        "    minNeighbors=4,\n",
        "    minSize=(4, 4),\n",
        ")\n"
      ]
    },
    {
      "cell_type": "markdown",
      "source": [
        "for making it specfic for test"
      ],
      "metadata": {
        "id": "p0XJ5hFfHJ3c"
      }
    },
    {
      "cell_type": "code",
      "source": [
        "\n",
        "s = int (format(len(faces)));\n",
        "if (s > 0 ):\n",
        "    print(\"Select Exam type :\")\n",
        "    print(\"1)ABC\")\n",
        "    print(\"2)SAF\")\n",
        "    print(\"3)GATE\")\n",
        "    Exam_type=input()\n",
        "    if Exam_type==\"ABC\":\n",
        "        if 10 < roundsize < 40:\n",
        "            print(\"The submitted file is a photograph and valid for ABC exam \")\n",
        "        else:\n",
        "            print(\"File size is to small or to large mantain the size under 40Kb and over 10Kb \")\n",
        "        print(\"Uploaded File Size: \", roundsize)\n",
        "    elif Exam_type==\"SAF\":\n",
        "        if 50 < roundsize < 70:\n",
        "            print(\"The submitted file is a photograph and valid for SAF exam\")\n",
        "        else:\n",
        "            print(\"File size is to small or to large mantain the size under 70Kb and over 50Kb \" )\n",
        "            print(\"Uploaded File Size: \", roundsize)\n",
        "    elif Exam_type==\"GATE\":\n",
        "         if 45 < roundsize < 65:\n",
        "            print(\"The submitted file is a photograph and valid for GATE exam\")\n",
        "         else:\n",
        "            print(\"File size is to small or to large mantain the size under 65Kb and over 45Kb \")\n",
        "            print(\"Uploaded File Size: \", roundsize)\n",
        "    else:\n",
        "        print(\"Enter Valid Exam name\")\n",
        "else:\n",
        "    print(\"No it is not a photograph. Please choose right image.\")"
      ],
      "metadata": {
        "id": "iAy85zCUHI0v"
      },
      "execution_count": null,
      "outputs": []
    }
  ]
}
